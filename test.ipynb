{
 "cells": [
  {
   "cell_type": "code",
   "execution_count": 1,
   "metadata": {},
   "outputs": [],
   "source": [
    "import numpy as np"
   ]
  },
  {
   "cell_type": "code",
   "execution_count": 3,
   "metadata": {},
   "outputs": [
    {
     "name": "stdout",
     "output_type": "stream",
     "text": [
      "x shape: (5,)\n",
      "[0.1 1.1 2.1 3.1 4.1]\n"
     ]
    }
   ],
   "source": [
    "x = np.arange(0.10, 5); print(f\"x shape: {x.shape}\"); print(x)"
   ]
  },
  {
   "cell_type": "code",
   "execution_count": 4,
   "metadata": {},
   "outputs": [
    {
     "name": "stdout",
     "output_type": "stream",
     "text": [
      "[1.39052497e-01 4.11696795e-05 4.20785386e-01 8.80347439e-01]\n"
     ]
    }
   ],
   "source": [
    "x = np.random.rand(4); print(x)"
   ]
  },
  {
   "cell_type": "code",
   "execution_count": 7,
   "metadata": {},
   "outputs": [
    {
     "data": {
      "text/plain": [
       "array([[[0.13833549, 0.65788601, 0.49233987],\n",
       "        [0.15623924, 0.36099583, 0.62535744],\n",
       "        [0.23810243, 0.4763333 , 0.50862991]],\n",
       "\n",
       "       [[0.97355741, 0.41590596, 0.21543867],\n",
       "        [0.22946903, 0.99441125, 0.20269512],\n",
       "        [0.9306899 , 0.23406717, 0.24394902]]])"
      ]
     },
     "execution_count": 7,
     "metadata": {},
     "output_type": "execute_result"
    }
   ],
   "source": [
    "np.random.random_sample((2,3,3))"
   ]
  },
  {
   "cell_type": "code",
   "execution_count": null,
   "metadata": {},
   "outputs": [],
   "source": []
  }
 ],
 "metadata": {
  "kernelspec": {
   "display_name": "base",
   "language": "python",
   "name": "python3"
  },
  "language_info": {
   "codemirror_mode": {
    "name": "ipython",
    "version": 3
   },
   "file_extension": ".py",
   "mimetype": "text/x-python",
   "name": "python",
   "nbconvert_exporter": "python",
   "pygments_lexer": "ipython3",
   "version": "3.11.4"
  }
 },
 "nbformat": 4,
 "nbformat_minor": 2
}
