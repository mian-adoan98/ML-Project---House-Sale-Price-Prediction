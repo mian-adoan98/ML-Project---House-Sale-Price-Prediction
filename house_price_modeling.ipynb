{
 "cells": [
  {
   "cell_type": "markdown",
   "metadata": {},
   "source": [
    "## ML Project: House Price Prediction (P2)"
   ]
  },
  {
   "cell_type": "code",
   "execution_count": 1,
   "metadata": {},
   "outputs": [],
   "source": [
    "# import libraries for data mining and visualisation\n",
    "import numpy as np\n",
    "import pandas as pd\n",
    "import matplotlib.pyplot as plt\n",
    "\n",
    "# import machine learning libraries\n",
    "from sklearn.model_selection import train_test_split\n",
    "from sklearn.linear_model import LinearRegression\n",
    "from sklearn.metrics import classification_report, accuracy_score"
   ]
  },
  {
   "cell_type": "code",
   "execution_count": 3,
   "metadata": {},
   "outputs": [
    {
     "data": {
      "text/html": [
       "<div>\n",
       "<style scoped>\n",
       "    .dataframe tbody tr th:only-of-type {\n",
       "        vertical-align: middle;\n",
       "    }\n",
       "\n",
       "    .dataframe tbody tr th {\n",
       "        vertical-align: top;\n",
       "    }\n",
       "\n",
       "    .dataframe thead th {\n",
       "        text-align: right;\n",
       "    }\n",
       "</style>\n",
       "<table border=\"1\" class=\"dataframe\">\n",
       "  <thead>\n",
       "    <tr style=\"text-align: right;\">\n",
       "      <th></th>\n",
       "      <th>Zip Code</th>\n",
       "      <th>Beds</th>\n",
       "      <th>Baths</th>\n",
       "      <th>Median Household Income(1k)</th>\n",
       "      <th>Area Living Space(sqm)</th>\n",
       "      <th>Price_p_living</th>\n",
       "      <th>Area_bath_sqm</th>\n",
       "      <th>Living_space</th>\n",
       "      <th>Price(1k)</th>\n",
       "    </tr>\n",
       "  </thead>\n",
       "  <tbody>\n",
       "    <tr>\n",
       "      <th>0</th>\n",
       "      <td>75051</td>\n",
       "      <td>3</td>\n",
       "      <td>2</td>\n",
       "      <td>63.560</td>\n",
       "      <td>142.048687</td>\n",
       "      <td>2.780033</td>\n",
       "      <td>71.024344</td>\n",
       "      <td>5</td>\n",
       "      <td>394.9</td>\n",
       "    </tr>\n",
       "    <tr>\n",
       "      <th>1</th>\n",
       "      <td>75051</td>\n",
       "      <td>5</td>\n",
       "      <td>4</td>\n",
       "      <td>63.560</td>\n",
       "      <td>220.737528</td>\n",
       "      <td>1.879608</td>\n",
       "      <td>55.184382</td>\n",
       "      <td>9</td>\n",
       "      <td>414.9</td>\n",
       "    </tr>\n",
       "    <tr>\n",
       "      <th>2</th>\n",
       "      <td>75201</td>\n",
       "      <td>3</td>\n",
       "      <td>4</td>\n",
       "      <td>149.296</td>\n",
       "      <td>317.263745</td>\n",
       "      <td>9.440095</td>\n",
       "      <td>79.315936</td>\n",
       "      <td>7</td>\n",
       "      <td>2995.0</td>\n",
       "    </tr>\n",
       "    <tr>\n",
       "      <th>3</th>\n",
       "      <td>75201</td>\n",
       "      <td>2</td>\n",
       "      <td>2</td>\n",
       "      <td>149.296</td>\n",
       "      <td>140.004821</td>\n",
       "      <td>4.642697</td>\n",
       "      <td>70.002410</td>\n",
       "      <td>4</td>\n",
       "      <td>650.0</td>\n",
       "    </tr>\n",
       "    <tr>\n",
       "      <th>4</th>\n",
       "      <td>75201</td>\n",
       "      <td>2</td>\n",
       "      <td>3</td>\n",
       "      <td>149.296</td>\n",
       "      <td>189.986635</td>\n",
       "      <td>2.468595</td>\n",
       "      <td>63.328878</td>\n",
       "      <td>5</td>\n",
       "      <td>469.0</td>\n",
       "    </tr>\n",
       "  </tbody>\n",
       "</table>\n",
       "</div>"
      ],
      "text/plain": [
       "   Zip Code  Beds  Baths  Median Household Income(1k)  Area Living Space(sqm)  \\\n",
       "0     75051     3      2                       63.560              142.048687   \n",
       "1     75051     5      4                       63.560              220.737528   \n",
       "2     75201     3      4                      149.296              317.263745   \n",
       "3     75201     2      2                      149.296              140.004821   \n",
       "4     75201     2      3                      149.296              189.986635   \n",
       "\n",
       "   Price_p_living  Area_bath_sqm  Living_space  Price(1k)  \n",
       "0        2.780033      71.024344             5      394.9  \n",
       "1        1.879608      55.184382             9      414.9  \n",
       "2        9.440095      79.315936             7     2995.0  \n",
       "3        4.642697      70.002410             4      650.0  \n",
       "4        2.468595      63.328878             5      469.0  "
      ]
     },
     "execution_count": 3,
     "metadata": {},
     "output_type": "execute_result"
    }
   ],
   "source": [
    "# load texas model training set\n",
    "texas_trainset = pd.read_csv(\"texas_model_training_set.csv\", index_col=0)\n",
    "texas_trainset.head()"
   ]
  },
  {
   "cell_type": "code",
   "execution_count": 4,
   "metadata": {},
   "outputs": [
    {
     "name": "stdout",
     "output_type": "stream",
     "text": [
      "<class 'pandas.core.frame.DataFrame'>\n",
      "Int64Index: 5806 entries, 0 to 5805\n",
      "Data columns (total 9 columns):\n",
      " #   Column                       Non-Null Count  Dtype  \n",
      "---  ------                       --------------  -----  \n",
      " 0   Zip Code                     5806 non-null   int64  \n",
      " 1   Beds                         5806 non-null   int64  \n",
      " 2   Baths                        5806 non-null   int64  \n",
      " 3   Median Household Income(1k)  5806 non-null   float64\n",
      " 4   Area Living Space(sqm)       5806 non-null   float64\n",
      " 5   Price_p_living               5806 non-null   float64\n",
      " 6   Area_bath_sqm                5806 non-null   float64\n",
      " 7   Living_space                 5806 non-null   int64  \n",
      " 8   Price(1k)                    5806 non-null   float64\n",
      "dtypes: float64(5), int64(4)\n",
      "memory usage: 453.6 KB\n"
     ]
    }
   ],
   "source": [
    "texas_trainset.info()"
   ]
  },
  {
   "cell_type": "markdown",
   "metadata": {},
   "source": [
    "### Model Training"
   ]
  },
  {
   "cell_type": "markdown",
   "metadata": {},
   "source": [
    "For training the model, X and Y are being assigned whereafter the training set and testing will be split. \n",
    "The X is called the input which is represented as a sample of different values (mathematically represented as a vector) although Y is target value that needed to me found through this project. \n",
    "\n",
    "According to the texas training set, the chosen feature as input for model training is the area bath space in squared meter. "
   ]
  },
  {
   "cell_type": "code",
   "execution_count": 7,
   "metadata": {},
   "outputs": [
    {
     "name": "stdout",
     "output_type": "stream",
     "text": [
      "Input X - Shape: (5806,)\n",
      "Output Y - Shape: (5806,)\n"
     ]
    }
   ],
   "source": [
    "# assign the parameters for buidling linear regression model\n",
    "X = texas_trainset[\"Area_bath_sqm\"]\n",
    "Y = texas_trainset[\"Price(1k)\"]\n",
    "\n",
    "# display the shape of the parameters before training the model\n",
    "print(f\"Input X - Shape: {X.shape}\")\n",
    "print(f\"Output Y - Shape: {Y.shape}\")"
   ]
  },
  {
   "cell_type": "code",
   "execution_count": 9,
   "metadata": {},
   "outputs": [
    {
     "name": "stdout",
     "output_type": "stream",
     "text": [
      "Training set X: (4935,)\n",
      "Testing set X: (871,)\n",
      "Training set Y: (4935,)\n",
      "Testing set X: (871,)\n"
     ]
    }
   ],
   "source": [
    "# split data into training and testing sets\n",
    "xtrain_txs, xtest_txs, ytrain_txs, ytest_txs = train_test_split(X, Y, test_size=0.15)\n",
    "\n",
    "# shape of training and testing sets\n",
    "print(f\"Training set X: {xtrain_txs.shape}\")\n",
    "print(f\"Testing set X: {xtest_txs.shape}\")\n",
    "print(f\"Training set Y: {ytrain_txs.shape}\")\n",
    "print(f\"Testing set X: {ytest_txs.shape}\")"
   ]
  },
  {
   "cell_type": "code",
   "execution_count": 14,
   "metadata": {},
   "outputs": [],
   "source": [
    "# # create linear regression model\n",
    "# model = LinearRegression()\n",
    "# model.fit(xtrain_txs, ytrain_txs)\n",
    "\n",
    "# # predict model \n",
    "# y_pred = model.predict(xtest_txs)"
   ]
  },
  {
   "cell_type": "code",
   "execution_count": null,
   "metadata": {},
   "outputs": [],
   "source": []
  },
  {
   "cell_type": "code",
   "execution_count": null,
   "metadata": {},
   "outputs": [],
   "source": []
  }
 ],
 "metadata": {
  "kernelspec": {
   "display_name": "base",
   "language": "python",
   "name": "python3"
  },
  "language_info": {
   "codemirror_mode": {
    "name": "ipython",
    "version": 3
   },
   "file_extension": ".py",
   "mimetype": "text/x-python",
   "name": "python",
   "nbconvert_exporter": "python",
   "pygments_lexer": "ipython3",
   "version": "3.11.4"
  }
 },
 "nbformat": 4,
 "nbformat_minor": 2
}
