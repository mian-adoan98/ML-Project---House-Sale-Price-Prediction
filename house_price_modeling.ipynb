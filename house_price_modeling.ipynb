{
 "cells": [
  {
   "cell_type": "markdown",
   "metadata": {},
   "source": [
    "## ML Project: House Price Prediction (P2)"
   ]
  },
  {
   "cell_type": "code",
   "execution_count": 2,
   "metadata": {},
   "outputs": [],
   "source": [
    "# import libraries for data mining and visualisation\n",
    "import numpy as np\n",
    "import pandas as pd\n",
    "import matplotlib.pyplot as plt\n",
    "\n",
    "# import machine learning libraries\n",
    "from sklearn.model_selection import train_test_split\n",
    "from sklearn.linear_model import LinearRegression\n",
    "from sklearn.metrics import classification_report, accuracy_score"
   ]
  },
  {
   "cell_type": "code",
   "execution_count": 3,
   "metadata": {},
   "outputs": [
    {
     "data": {
      "text/html": [
       "<div>\n",
       "<style scoped>\n",
       "    .dataframe tbody tr th:only-of-type {\n",
       "        vertical-align: middle;\n",
       "    }\n",
       "\n",
       "    .dataframe tbody tr th {\n",
       "        vertical-align: top;\n",
       "    }\n",
       "\n",
       "    .dataframe thead th {\n",
       "        text-align: right;\n",
       "    }\n",
       "</style>\n",
       "<table border=\"1\" class=\"dataframe\">\n",
       "  <thead>\n",
       "    <tr style=\"text-align: right;\">\n",
       "      <th></th>\n",
       "      <th>Zip Code</th>\n",
       "      <th>Beds</th>\n",
       "      <th>Baths</th>\n",
       "      <th>Median Household Income(1k)</th>\n",
       "      <th>Area Living Space(sqm)</th>\n",
       "      <th>Price_p_living</th>\n",
       "      <th>Area_bath_sqm</th>\n",
       "      <th>Living_space</th>\n",
       "      <th>Price(1k)</th>\n",
       "    </tr>\n",
       "  </thead>\n",
       "  <tbody>\n",
       "    <tr>\n",
       "      <th>0</th>\n",
       "      <td>75051</td>\n",
       "      <td>3</td>\n",
       "      <td>2</td>\n",
       "      <td>63.560</td>\n",
       "      <td>142.048687</td>\n",
       "      <td>2.780033</td>\n",
       "      <td>71.024344</td>\n",
       "      <td>5</td>\n",
       "      <td>394.9</td>\n",
       "    </tr>\n",
       "    <tr>\n",
       "      <th>1</th>\n",
       "      <td>75051</td>\n",
       "      <td>5</td>\n",
       "      <td>4</td>\n",
       "      <td>63.560</td>\n",
       "      <td>220.737528</td>\n",
       "      <td>1.879608</td>\n",
       "      <td>55.184382</td>\n",
       "      <td>9</td>\n",
       "      <td>414.9</td>\n",
       "    </tr>\n",
       "    <tr>\n",
       "      <th>2</th>\n",
       "      <td>75201</td>\n",
       "      <td>3</td>\n",
       "      <td>4</td>\n",
       "      <td>149.296</td>\n",
       "      <td>317.263745</td>\n",
       "      <td>9.440095</td>\n",
       "      <td>79.315936</td>\n",
       "      <td>7</td>\n",
       "      <td>2995.0</td>\n",
       "    </tr>\n",
       "    <tr>\n",
       "      <th>3</th>\n",
       "      <td>75201</td>\n",
       "      <td>2</td>\n",
       "      <td>2</td>\n",
       "      <td>149.296</td>\n",
       "      <td>140.004821</td>\n",
       "      <td>4.642697</td>\n",
       "      <td>70.002410</td>\n",
       "      <td>4</td>\n",
       "      <td>650.0</td>\n",
       "    </tr>\n",
       "    <tr>\n",
       "      <th>4</th>\n",
       "      <td>75201</td>\n",
       "      <td>2</td>\n",
       "      <td>3</td>\n",
       "      <td>149.296</td>\n",
       "      <td>189.986635</td>\n",
       "      <td>2.468595</td>\n",
       "      <td>63.328878</td>\n",
       "      <td>5</td>\n",
       "      <td>469.0</td>\n",
       "    </tr>\n",
       "  </tbody>\n",
       "</table>\n",
       "</div>"
      ],
      "text/plain": [
       "   Zip Code  Beds  Baths  Median Household Income(1k)  Area Living Space(sqm)  \\\n",
       "0     75051     3      2                       63.560              142.048687   \n",
       "1     75051     5      4                       63.560              220.737528   \n",
       "2     75201     3      4                      149.296              317.263745   \n",
       "3     75201     2      2                      149.296              140.004821   \n",
       "4     75201     2      3                      149.296              189.986635   \n",
       "\n",
       "   Price_p_living  Area_bath_sqm  Living_space  Price(1k)  \n",
       "0        2.780033      71.024344             5      394.9  \n",
       "1        1.879608      55.184382             9      414.9  \n",
       "2        9.440095      79.315936             7     2995.0  \n",
       "3        4.642697      70.002410             4      650.0  \n",
       "4        2.468595      63.328878             5      469.0  "
      ]
     },
     "execution_count": 3,
     "metadata": {},
     "output_type": "execute_result"
    }
   ],
   "source": [
    "# load texas model training set\n",
    "texas_trainset = pd.read_csv(\"texas_model_training_set.csv\", index_col=0)\n",
    "texas_trainset.head()"
   ]
  },
  {
   "cell_type": "code",
   "execution_count": 4,
   "metadata": {},
   "outputs": [
    {
     "name": "stdout",
     "output_type": "stream",
     "text": [
      "<class 'pandas.core.frame.DataFrame'>\n",
      "Int64Index: 5806 entries, 0 to 5805\n",
      "Data columns (total 9 columns):\n",
      " #   Column                       Non-Null Count  Dtype  \n",
      "---  ------                       --------------  -----  \n",
      " 0   Zip Code                     5806 non-null   int64  \n",
      " 1   Beds                         5806 non-null   int64  \n",
      " 2   Baths                        5806 non-null   int64  \n",
      " 3   Median Household Income(1k)  5806 non-null   float64\n",
      " 4   Area Living Space(sqm)       5806 non-null   float64\n",
      " 5   Price_p_living               5806 non-null   float64\n",
      " 6   Area_bath_sqm                5806 non-null   float64\n",
      " 7   Living_space                 5806 non-null   int64  \n",
      " 8   Price(1k)                    5806 non-null   float64\n",
      "dtypes: float64(5), int64(4)\n",
      "memory usage: 453.6 KB\n"
     ]
    }
   ],
   "source": [
    "texas_trainset.info()"
   ]
  },
  {
   "cell_type": "markdown",
   "metadata": {},
   "source": [
    "### Model Training"
   ]
  },
  {
   "cell_type": "markdown",
   "metadata": {},
   "source": [
    "For training the model, X and Y are being assigned whereafter the training set and testing will be split. \n",
    "The X is called the input which is represented as a sample of different values (mathematically represented as a vector) although Y is target value that needed to me found through this project. \n",
    "\n",
    "According to the texas training set, the chosen feature as input for model training is the area bath space in squared meter. "
   ]
  },
  {
   "cell_type": "code",
   "execution_count": 5,
   "metadata": {},
   "outputs": [
    {
     "name": "stdout",
     "output_type": "stream",
     "text": [
      "Input X - Shape: (5806, 1)\n",
      "Output Y - Shape: (5806,)\n"
     ]
    }
   ],
   "source": [
    "# assign the parameters for buidling linear regression model\n",
    "X = texas_trainset[[\"Area_bath_sqm\"]]\n",
    "Y = texas_trainset[\"Price(1k)\"]\n",
    "\n",
    "# display the shape of the parameters before training the model\n",
    "print(f\"Input X - Shape: {X.shape}\")\n",
    "print(f\"Output Y - Shape: {Y.shape}\")"
   ]
  },
  {
   "cell_type": "code",
   "execution_count": 15,
   "metadata": {},
   "outputs": [
    {
     "name": "stdout",
     "output_type": "stream",
     "text": [
      "Training set X: (4935, 1)\n",
      "Testing set X: (871, 1)\n",
      "Training set Y: (4935,)\n",
      "Testing set Y: (871,)\n"
     ]
    }
   ],
   "source": [
    "# split data into training and testing sets\n",
    "xtrain_txs, xtest_txs, ytrain_txs, ytest_txs = train_test_split(X, Y, test_size=0.15)\n",
    "\n",
    "# shape of training and testing sets\n",
    "print(f\"Training set X: {xtrain_txs.shape}\")\n",
    "print(f\"Testing set X: {xtest_txs.shape}\")\n",
    "print(f\"Training set Y: {ytrain_txs.shape}\")\n",
    "print(f\"Testing set Y: {ytest_txs.shape}\")"
   ]
  },
  {
   "cell_type": "code",
   "execution_count": 7,
   "metadata": {},
   "outputs": [],
   "source": [
    "# create linear regression model\n",
    "model = LinearRegression()\n",
    "model.fit(xtrain_txs, ytrain_txs)\n",
    "\n",
    "# predict model \n",
    "y_pred = model.predict(xtest_txs)"
   ]
  },
  {
   "cell_type": "code",
   "execution_count": 20,
   "metadata": {},
   "outputs": [
    {
     "data": {
      "text/plain": [
       "<matplotlib.collections.PathCollection at 0x23cb4eb27d0>"
      ]
     },
     "execution_count": 20,
     "metadata": {},
     "output_type": "execute_result"
    },
    {
     "data": {
      "image/png": "[encoded data removed]",
      "text/plain": [
       "<Figure size 640x480 with 1 Axes>"
      ]
     },
     "metadata": {},
     "output_type": "display_data"
    }
   ],
   "source": [
    "# scatter plot with sample data\n",
    "plt.scatter(xtest_txs, ytest_txs, color=\"purple\")\n",
    "# plt.plot(xtest_txs, np.arange(0,871))"
   ]
  },
  {
   "cell_type": "markdown",
   "metadata": {},
   "source": [
    "### Model Evaluation"
   ]
  },
  {
   "cell_type": "code",
   "execution_count": 24,
   "metadata": {},
   "outputs": [
    {
     "name": "stdout",
     "output_type": "stream",
     "text": [
      "Coefficient: [6.34636661]\n",
      "Intercept: 64.89912925446271\n"
     ]
    }
   ],
   "source": [
    "# retrieve coefficients and intercepts for building linear regression model\n",
    "model_coef = model.coef_\n",
    "model_intercept = model.intercept_\n",
    "\n",
    "print(f\"Coefficient: {model_coef}\")\n",
    "print(f\"Intercept: {model_intercept}\")\n",
    "# build prediction line\n",
    "y_pred = model_coef*xtest_txs + model_intercept\n"
   ]
  },
  {
   "cell_type": "code",
   "execution_count": 29,
   "metadata": {},
   "outputs": [
    {
     "data": {
      "image/png": "[encoded data removed]",
      "text/plain": [
       "<Figure size 640x480 with 1 Axes>"
      ]
     },
     "metadata": {},
     "output_type": "display_data"
    }
   ],
   "source": [
    "# plot regression line\n",
    "plt.scatter(xtest_txs, ytest_txs)\n",
    "plt.plot(xtest_txs, y_pred, color=\"black\")\n",
    "\n",
    "# add description\n",
    "plt.xlabel(\"Area bed(sqm)\")\n",
    "plt.ylabel(\"Price($ 1k)\")\n",
    "plt.title(\"Linear Regression on House Price\")\n",
    "plt.show()"
   ]
  },
  {
   "cell_type": "code",
   "execution_count": 26,
   "metadata": {},
   "outputs": [
    {
     "ename": "ValueError",
     "evalue": "continuous is not supported",
     "output_type": "error",
     "traceback": [
      "\u001b[1;31m---------------------------------------------------------------------------\u001b[0m",
      "\u001b[1;31mValueError\u001b[0m                                Traceback (most recent call last)",
      "Cell \u001b[1;32mIn[26], line 2\u001b[0m\n\u001b[0;32m      1\u001b[0m \u001b[38;5;66;03m# check accuracy \u001b[39;00m\n\u001b[1;32m----> 2\u001b[0m model_acc \u001b[38;5;241m=\u001b[39m accuracy_score(ytest_txs, y_pred)\n\u001b[0;32m      3\u001b[0m \u001b[38;5;28mprint\u001b[39m(\u001b[38;5;124mf\u001b[39m\u001b[38;5;124m\"\u001b[39m\u001b[38;5;124mModel accuracy: \u001b[39m\u001b[38;5;132;01m{\u001b[39;00mmodel_acc\u001b[38;5;132;01m}\u001b[39;00m\u001b[38;5;124m\"\u001b[39m)\n",
      "File \u001b[1;32mc:\\ProgramData\\Anaconda3\\Lib\\site-packages\\sklearn\\utils\\_param_validation.py:211\u001b[0m, in \u001b[0;36mvalidate_params.<locals>.decorator.<locals>.wrapper\u001b[1;34m(*args, **kwargs)\u001b[0m\n\u001b[0;32m    205\u001b[0m \u001b[38;5;28;01mtry\u001b[39;00m:\n\u001b[0;32m    206\u001b[0m     \u001b[38;5;28;01mwith\u001b[39;00m config_context(\n\u001b[0;32m    207\u001b[0m         skip_parameter_validation\u001b[38;5;241m=\u001b[39m(\n\u001b[0;32m    208\u001b[0m             prefer_skip_nested_validation \u001b[38;5;129;01mor\u001b[39;00m global_skip_validation\n\u001b[0;32m    209\u001b[0m         )\n\u001b[0;32m    210\u001b[0m     ):\n\u001b[1;32m--> 211\u001b[0m         \u001b[38;5;28;01mreturn\u001b[39;00m func(\u001b[38;5;241m*\u001b[39margs, \u001b[38;5;241m*\u001b[39m\u001b[38;5;241m*\u001b[39mkwargs)\n\u001b[0;32m    212\u001b[0m \u001b[38;5;28;01mexcept\u001b[39;00m InvalidParameterError \u001b[38;5;28;01mas\u001b[39;00m e:\n\u001b[0;32m    213\u001b[0m     \u001b[38;5;66;03m# When the function is just a wrapper around an estimator, we allow\u001b[39;00m\n\u001b[0;32m    214\u001b[0m     \u001b[38;5;66;03m# the function to delegate validation to the estimator, but we replace\u001b[39;00m\n\u001b[0;32m    215\u001b[0m     \u001b[38;5;66;03m# the name of the estimator by the name of the function in the error\u001b[39;00m\n\u001b[0;32m    216\u001b[0m     \u001b[38;5;66;03m# message to avoid confusion.\u001b[39;00m\n\u001b[0;32m    217\u001b[0m     msg \u001b[38;5;241m=\u001b[39m re\u001b[38;5;241m.\u001b[39msub(\n\u001b[0;32m    218\u001b[0m         \u001b[38;5;124mr\u001b[39m\u001b[38;5;124m\"\u001b[39m\u001b[38;5;124mparameter of \u001b[39m\u001b[38;5;124m\\\u001b[39m\u001b[38;5;124mw+ must be\u001b[39m\u001b[38;5;124m\"\u001b[39m,\n\u001b[0;32m    219\u001b[0m         \u001b[38;5;124mf\u001b[39m\u001b[38;5;124m\"\u001b[39m\u001b[38;5;124mparameter of \u001b[39m\u001b[38;5;132;01m{\u001b[39;00mfunc\u001b[38;5;241m.\u001b[39m\u001b[38;5;18m__qualname__\u001b[39m\u001b[38;5;132;01m}\u001b[39;00m\u001b[38;5;124m must be\u001b[39m\u001b[38;5;124m\"\u001b[39m,\n\u001b[0;32m    220\u001b[0m         \u001b[38;5;28mstr\u001b[39m(e),\n\u001b[0;32m    221\u001b[0m     )\n",
      "File \u001b[1;32mc:\\ProgramData\\Anaconda3\\Lib\\site-packages\\sklearn\\metrics\\_classification.py:220\u001b[0m, in \u001b[0;36maccuracy_score\u001b[1;34m(y_true, y_pred, normalize, sample_weight)\u001b[0m\n\u001b[0;32m    154\u001b[0m \u001b[38;5;250m\u001b[39m\u001b[38;5;124;03m\"\"\"Accuracy classification score.\u001b[39;00m\n\u001b[0;32m    155\u001b[0m \n\u001b[0;32m    156\u001b[0m \u001b[38;5;124;03mIn multilabel classification, this function computes subset accuracy:\u001b[39;00m\n\u001b[1;32m   (...)\u001b[0m\n\u001b[0;32m    216\u001b[0m \u001b[38;5;124;03m0.5\u001b[39;00m\n\u001b[0;32m    217\u001b[0m \u001b[38;5;124;03m\"\"\"\u001b[39;00m\n\u001b[0;32m    219\u001b[0m \u001b[38;5;66;03m# Compute accuracy for each possible representation\u001b[39;00m\n\u001b[1;32m--> 220\u001b[0m y_type, y_true, y_pred \u001b[38;5;241m=\u001b[39m _check_targets(y_true, y_pred)\n\u001b[0;32m    221\u001b[0m check_consistent_length(y_true, y_pred, sample_weight)\n\u001b[0;32m    222\u001b[0m \u001b[38;5;28;01mif\u001b[39;00m y_type\u001b[38;5;241m.\u001b[39mstartswith(\u001b[38;5;124m\"\u001b[39m\u001b[38;5;124mmultilabel\u001b[39m\u001b[38;5;124m\"\u001b[39m):\n",
      "File \u001b[1;32mc:\\ProgramData\\Anaconda3\\Lib\\site-packages\\sklearn\\metrics\\_classification.py:104\u001b[0m, in \u001b[0;36m_check_targets\u001b[1;34m(y_true, y_pred)\u001b[0m\n\u001b[0;32m    102\u001b[0m \u001b[38;5;66;03m# No metrics support \"multiclass-multioutput\" format\u001b[39;00m\n\u001b[0;32m    103\u001b[0m \u001b[38;5;28;01mif\u001b[39;00m y_type \u001b[38;5;129;01mnot\u001b[39;00m \u001b[38;5;129;01min\u001b[39;00m [\u001b[38;5;124m\"\u001b[39m\u001b[38;5;124mbinary\u001b[39m\u001b[38;5;124m\"\u001b[39m, \u001b[38;5;124m\"\u001b[39m\u001b[38;5;124mmulticlass\u001b[39m\u001b[38;5;124m\"\u001b[39m, \u001b[38;5;124m\"\u001b[39m\u001b[38;5;124mmultilabel-indicator\u001b[39m\u001b[38;5;124m\"\u001b[39m]:\n\u001b[1;32m--> 104\u001b[0m     \u001b[38;5;28;01mraise\u001b[39;00m \u001b[38;5;167;01mValueError\u001b[39;00m(\u001b[38;5;124m\"\u001b[39m\u001b[38;5;132;01m{0}\u001b[39;00m\u001b[38;5;124m is not supported\u001b[39m\u001b[38;5;124m\"\u001b[39m\u001b[38;5;241m.\u001b[39mformat(y_type))\n\u001b[0;32m    106\u001b[0m \u001b[38;5;28;01mif\u001b[39;00m y_type \u001b[38;5;129;01min\u001b[39;00m [\u001b[38;5;124m\"\u001b[39m\u001b[38;5;124mbinary\u001b[39m\u001b[38;5;124m\"\u001b[39m, \u001b[38;5;124m\"\u001b[39m\u001b[38;5;124mmulticlass\u001b[39m\u001b[38;5;124m\"\u001b[39m]:\n\u001b[0;32m    107\u001b[0m     y_true \u001b[38;5;241m=\u001b[39m column_or_1d(y_true)\n",
      "\u001b[1;31mValueError\u001b[0m: continuous is not supported"
     ]
    }
   ],
   "source": [
    "# check accuracy \n",
    "model_acc = accuracy_score(ytest_txs, y_pred)\n",
    "print(f\"Model accuracy: {model_acc}\")"
   ]
  },
  {
   "cell_type": "code",
   "execution_count": null,
   "metadata": {},
   "outputs": [],
   "source": []
  }
 ],
 "metadata": {
  "kernelspec": {
   "display_name": "base",
   "language": "python",
   "name": "python3"
  },
  "language_info": {
   "codemirror_mode": {
    "name": "ipython",
    "version": 3
   },
   "file_extension": ".py",
   "mimetype": "text/x-python",
   "name": "python",
   "nbconvert_exporter": "python",
   "pygments_lexer": "ipython3",
   "version": "3.11.4"
  }
 },
 "nbformat": 4,
 "nbformat_minor": 2
}
